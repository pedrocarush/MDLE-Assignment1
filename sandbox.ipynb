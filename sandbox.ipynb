{
 "cells": [
  {
   "cell_type": "markdown",
   "metadata": {},
   "source": [
    "# Assignment 1"
   ]
  },
  {
   "attachments": {},
   "cell_type": "markdown",
   "metadata": {},
   "source": [
    "## Imports"
   ]
  },
  {
   "cell_type": "code",
   "execution_count": null,
   "metadata": {},
   "outputs": [],
   "source": [
    "import os.path\n",
    "from pyspark.sql import SparkSession\n",
    "from pyspark.sql.functions import *\n",
    "from pyspark.sql.types import StringType, ArrayType\n",
    "from itertools import combinations, chain\n",
    "from typing import Iterable, Any"
   ]
  },
  {
   "attachments": {},
   "cell_type": "markdown",
   "metadata": {},
   "source": [
    "## Spark initialization"
   ]
  },
  {
   "cell_type": "code",
   "execution_count": null,
   "metadata": {},
   "outputs": [],
   "source": [
    "spark = SparkSession.builder \\\n",
    "    .appName('SandboxAssign1') \\\n",
    "    .config('spark.master', 'local[*]') \\\n",
    "    .getOrCreate()"
   ]
  },
  {
   "cell_type": "markdown",
   "metadata": {},
   "source": [
    "## Prepare the data"
   ]
  },
  {
   "cell_type": "code",
   "execution_count": null,
   "metadata": {},
   "outputs": [],
   "source": [
    "df = spark.read \\\n",
    "    .option('header', True) \\\n",
    "    .csv('conditions.csv.gz') \\\n",
    "    .drop('START', 'STOP', 'ENCOUNTER')"
   ]
  },
  {
   "cell_type": "code",
   "execution_count": null,
   "metadata": {},
   "outputs": [],
   "source": [
    "code_description_df = df \\\n",
    "    .select('CODE', 'DESCRIPTION') \\\n",
    "    .distinct()"
   ]
  },
  {
   "cell_type": "code",
   "execution_count": null,
   "metadata": {},
   "outputs": [],
   "source": [
    "df = df.drop('DESCRIPTION').distinct()"
   ]
  },
  {
   "attachments": {},
   "cell_type": "markdown",
   "metadata": {},
   "source": [
    "## A-priori algorithm"
   ]
  },
  {
   "cell_type": "code",
   "execution_count": null,
   "metadata": {},
   "outputs": [],
   "source": [
    "support_threshold = 1000"
   ]
  },
  {
   "cell_type": "markdown",
   "metadata": {},
   "source": [
    "### First pass"
   ]
  },
  {
   "cell_type": "code",
   "execution_count": null,
   "metadata": {},
   "outputs": [],
   "source": [
    "if not os.path.exists('frequent_diseases_k1'):\n",
    "    frequent_diseases_k1 = df \\\n",
    "        .groupBy('CODE') \\\n",
    "        .count() \\\n",
    "        .withColumnRenamed('count', 'COUNT') \\\n",
    "        .filter(col('COUNT') >= support_threshold)\n",
    "    \n",
    "    frequent_diseases_k1.write.mode('overwrite').parquet(path='frequent_diseases_k1', compression='gzip')\n",
    "\n",
    "frequent_diseases_k1 = spark.read.parquet('frequent_diseases_k1')"
   ]
  },
  {
   "cell_type": "code",
   "execution_count": null,
   "metadata": {},
   "outputs": [],
   "source": [
    "frequent_diseases_k1_set = {r.CODE for r in frequent_diseases_k1.select('CODE').collect()}"
   ]
  },
  {
   "cell_type": "code",
   "execution_count": null,
   "metadata": {},
   "outputs": [],
   "source": [
    "len(frequent_diseases_k1_set)   # 131"
   ]
  },
  {
   "attachments": {},
   "cell_type": "markdown",
   "metadata": {},
   "source": [
    "### Second pass"
   ]
  },
  {
   "cell_type": "code",
   "execution_count": null,
   "metadata": {},
   "outputs": [],
   "source": [
    "@udf(returnType=ArrayType(ArrayType(StringType(), False), False))\n",
    "def combine_pairs(elems: Iterable[Any]):\n",
    "    return list(combinations(elems, 2))"
   ]
  },
  {
   "cell_type": "code",
   "execution_count": null,
   "metadata": {},
   "outputs": [],
   "source": [
    "if False:\n",
    "    from pyspark.sql import Row\n",
    "\n",
    "    df_test = spark.createDataFrame([\n",
    "        Row(a=0, b=[1,2,3,8], c=list(combinations([1,2,3,8], 2))),\n",
    "        Row(a=1, b=[4,5,6], c=list(combinations([4,5,6], 2))),\n",
    "        Row(a=2, b=[1,5,7], c=list(combinations([1,5,7], 2))),\n",
    "    ])\n",
    "\n",
    "    df_test.withColumn('c', explode('c')).show()"
   ]
  },
  {
   "cell_type": "code",
   "execution_count": null,
   "metadata": {},
   "outputs": [],
   "source": [
    "if not os.path.exists('frequent_diseases_k2'):\n",
    "    # ???\n",
    "    frequent_diseases_k2 = df \\\n",
    "        .filter(col('CODE').isin(frequent_diseases_k1_set)) \\\n",
    "        .groupBy('PATIENT') \\\n",
    "        .agg(collect_list('CODE')) \\\n",
    "        .withColumn('CODE_PAIRS', combine_pairs('collect_list(CODE)')) \\\n",
    "        .select('PATIENT', 'CODE_PAIRS') \\\n",
    "        .withColumn('CODE_PAIR', explode('CODE_PAIRS')) \\\n",
    "        .drop('CODE_PAIRS') \\\n",
    "        .withColumn('CODE_PAIR', array_sort('CODE_PAIR')) \\\n",
    "        .groupBy('CODE_PAIR') \\\n",
    "        .count() \\\n",
    "        .withColumnRenamed('count', 'COUNT') \\\n",
    "        .filter(col('COUNT') >= support_threshold)\n",
    "    \n",
    "    frequent_diseases_k2.write.mode('overwrite').parquet(path='frequent_diseases_k2', compression='gzip')\n",
    "\n",
    "frequent_diseases_k2 = spark.read.parquet('frequent_diseases_k2')"
   ]
  },
  {
   "cell_type": "code",
   "execution_count": null,
   "metadata": {},
   "outputs": [],
   "source": [
    "frequent_diseases_k2_set = {tuple(r.CODE_PAIR) for r in frequent_diseases_k2.select('CODE_PAIR').collect()}"
   ]
  },
  {
   "cell_type": "code",
   "execution_count": null,
   "metadata": {},
   "outputs": [],
   "source": [
    "len(frequent_diseases_k2_set)   # 2940"
   ]
  },
  {
   "cell_type": "markdown",
   "metadata": {},
   "source": [
    "### Third Pass"
   ]
  },
  {
   "cell_type": "code",
   "execution_count": null,
   "metadata": {},
   "outputs": [],
   "source": [
    "@udf(returnType=ArrayType(ArrayType(StringType(), False), False))\n",
    "def combine_triples(elems: Iterable[Any]):\n",
    "\n",
    "    triples = list(combinations(elems, 3))\n",
    "\n",
    "    triples = [\n",
    "        combination for combination in triples\n",
    "        if ((combination[0], combination[1]) in frequent_diseases_k2_set\n",
    "            and (combination[0], combination[2]) in frequent_diseases_k2_set\n",
    "            and (combination[1], combination[2]) in frequent_diseases_k2_set)\n",
    "    ]\n",
    "        \n",
    "    return triples"
   ]
  },
  {
   "cell_type": "code",
   "execution_count": null,
   "metadata": {},
   "outputs": [],
   "source": [
    "if not os.path.exists('frequent_diseases_k3'):\n",
    "    frequent_diseases_k3 = df \\\n",
    "        .filter(col('CODE').isin(frequent_diseases_k1_set)) \\\n",
    "        .groupBy('PATIENT') \\\n",
    "        .agg(collect_list('CODE')) \\\n",
    "        .withColumn('collect_list(CODE)', array_sort('collect_list(CODE)')) \\\n",
    "        .withColumn('CODE_TRIPLES', combine_triples('collect_list(CODE)')) \\\n",
    "        .select('PATIENT', 'CODE_TRIPLES') \\\n",
    "        .withColumn('CODE_TRIPLE', explode('CODE_TRIPLES')) \\\n",
    "        .drop('CODE_TRIPLES') \\\n",
    "        .groupBy('CODE_TRIPLE') \\\n",
    "        .count() \\\n",
    "        .withColumnRenamed('count', 'COUNT') \\\n",
    "        .filter(col('COUNT') >= support_threshold)\n",
    "\n",
    "    frequent_diseases_k3.write.mode('overwrite').parquet(path='frequent_diseases_k3', compression='gzip')\n",
    "\n",
    "frequent_diseases_k3 = spark.read.parquet('frequent_diseases_k3')"
   ]
  },
  {
   "cell_type": "code",
   "execution_count": null,
   "metadata": {},
   "outputs": [],
   "source": [
    "frequent_diseases_k3_set = {tuple(r.CODE_TRIPLE) for r in frequent_diseases_k3.select('CODE_TRIPLE').collect()}"
   ]
  },
  {
   "cell_type": "code",
   "execution_count": null,
   "metadata": {},
   "outputs": [],
   "source": [
    "len(frequent_diseases_k3_set)   # 13395"
   ]
  },
  {
   "cell_type": "markdown",
   "metadata": {},
   "source": [
    "### Most frequent"
   ]
  },
  {
   "cell_type": "code",
   "execution_count": null,
   "metadata": {},
   "outputs": [],
   "source": [
    "frequent_diseases_k2.sort('COUNT', ascending=False).take(10)"
   ]
  },
  {
   "cell_type": "code",
   "execution_count": null,
   "metadata": {},
   "outputs": [],
   "source": [
    "frequent_diseases_k3.sort('COUNT', ascending=False).take(10)"
   ]
  },
  {
   "attachments": {},
   "cell_type": "markdown",
   "metadata": {},
   "source": [
    "Example output\n",
    "\n",
    "```\n",
    "...\n",
    "{Diabetes, Neoplasm} -> {Colon polyp}: 0.2000, ...\n",
    "...\n",
    "```"
   ]
  },
  {
   "attachments": {},
   "cell_type": "markdown",
   "metadata": {},
   "source": [
    "### Rules"
   ]
  },
  {
   "cell_type": "code",
   "execution_count": 118,
   "metadata": {},
   "outputs": [],
   "source": [
    "@udf(returnType=ArrayType(ArrayType(ArrayType(StringType(), False), False), False))\n",
    "def inner_subsets(itemset: List[str]):\n",
    "    itemset = set(itemset)\n",
    "    combis = chain.from_iterable(list(map(set, combinations(itemset, k))) for k in range(1, len(itemset)))\n",
    "    return list((sorted(combi), sorted(itemset - combi)) for combi in combis)"
   ]
  },
  {
   "cell_type": "code",
   "execution_count": 129,
   "metadata": {},
   "outputs": [],
   "source": [
    "rules_k2 = frequent_diseases_k2 \\\n",
    "    .withColumn('CODE_PAIR', inner_subsets('CODE_PAIR')) \\\n",
    "    .withColumn('CODE_PAIR', explode('CODE_PAIR')) \\\n",
    "    .withColumnRenamed('COUNT', 'COUNT_PAIR') \\\n",
    "    .select(col('CODE_PAIR')[0].alias('RULE_1'), col('CODE_PAIR')[1].alias('RULE_2'), 'COUNT_PAIR') \\\n",
    "    .join(frequent_diseases_k1, frequent_diseases_k1['CODE'] == col('RULE_1')[0], 'inner') \\\n",
    "    .withColumnRenamed('COUNT', 'COUNT_1') \\\n",
    "    .drop('CODE') \\\n",
    "    .join(frequent_diseases_k1, frequent_diseases_k1['CODE'] == col('RULE_2')[0], 'inner') \\\n",
    "    .withColumnRenamed('COUNT', 'COUNT_2') \\\n",
    "    .drop('CODE')"
   ]
  },
  {
   "cell_type": "code",
   "execution_count": null,
   "metadata": {},
   "outputs": [],
   "source": [
    "n_patients = df.select('PATIENT').distinct().count()"
   ]
  },
  {
   "cell_type": "code",
   "execution_count": null,
   "metadata": {},
   "outputs": [],
   "source": [
    "rules_k2 \\\n",
    "    .withColumn('CONFIDENCE', col('COUNT_PAIR') / col('COUNT_1')) \\\n",
    "    .withColumn('INTEREST', col('CONFIDENCE') - col('COUNT_2') / n_patients) \\\n",
    "    .withColumn('LIFT', n_patients * col('CONFIDENCE') / col('COUNT_2')) \\\n",
    "    .withColumn('STANDARDISED_LIFT', \n",
    "                (col('LIFT') - array_max(array(\n",
    "                    (col('COUNT_1') + col('COUNT_2')) / n_patients - 1,\n",
    "                    lit(1 / n_patients)\n",
    "                )) / (col('COUNT_1') * col('COUNT_2') / (n_patients ** 2)))\n",
    "                /\n",
    "                ((n_patients / array_max(array(col('COUNT_1'), col('COUNT_2')))) - array_max(array(\n",
    "                    (col('COUNT_1') + col('COUNT_2')) / n_patients - 1,\n",
    "                    lit(1 / n_patients)\n",
    "                )) / (col('COUNT_1') * col('COUNT_2') / (n_patients ** 2)))\n",
    "    ) \\\n",
    "    .filter(col('STANDARDISED_LIFT') >= 0.2) \\\n",
    "    .show(truncate=False)\n"
   ]
  },
  {
   "cell_type": "code",
   "execution_count": 151,
   "metadata": {},
   "outputs": [
    {
     "name": "stdout",
     "output_type": "stream",
     "text": [
      "+----------------------------+----------------------------+------------+-------+-------+\n",
      "|RULE_1                      |RULE_2                      |COUNT_TRIPLE|COUNT_1|COUNT_2|\n",
      "+----------------------------+----------------------------+------------+-------+-------+\n",
      "|[368581000119106]           |[302870006, 422034002]      |10003       |26779  |20413  |\n",
      "|[422034002]                 |[302870006, 368581000119106]|10003       |20456  |26722  |\n",
      "|[302870006]                 |[368581000119106, 422034002]|10003       |75992  |10004  |\n",
      "|[368581000119106, 422034002]|[302870006]                 |10003       |10004  |75992  |\n",
      "|[302870006, 368581000119106]|[422034002]                 |10003       |26722  |20456  |\n",
      "|[302870006, 422034002]      |[368581000119106]           |10003       |20413  |26779  |\n",
      "|[444814009]                 |[59621000, 80394007]        |13500       |751940 |20376  |\n",
      "|[59621000]                  |[444814009, 80394007]       |13500       |305134 |23558  |\n",
      "|[80394007]                  |[444814009, 59621000]       |13500       |35226  |203450 |\n",
      "|[444814009, 59621000]       |[80394007]                  |13500       |203450 |35226  |\n",
      "|[444814009, 80394007]       |[59621000]                  |13500       |23558  |305134 |\n",
      "|[59621000, 80394007]        |[444814009]                 |13500       |20376  |751940 |\n",
      "|[62106007]                  |[40055000, 68496003]        |1386        |66888  |28063  |\n",
      "|[68496003]                  |[40055000, 62106007]        |1386        |85587  |13890  |\n",
      "|[40055000]                  |[62106007, 68496003]        |1386        |250239 |4295   |\n",
      "|[62106007, 68496003]        |[40055000]                  |1386        |4295   |250239 |\n",
      "|[40055000, 62106007]        |[68496003]                  |1386        |13890  |85587  |\n",
      "|[40055000, 68496003]        |[62106007]                  |1386        |28063  |66888  |\n",
      "|[15777000]                  |[271737000, 79586000]       |7478        |354315 |9150   |\n",
      "|[79586000]                  |[15777000, 271737000]       |7478        |25783  |289176 |\n",
      "+----------------------------+----------------------------+------------+-------+-------+\n",
      "only showing top 20 rows\n",
      "\n"
     ]
    }
   ],
   "source": [
    "rules_k3 = frequent_diseases_k3 \\\n",
    "    .withColumn('CODE_TRIPLE', inner_subsets('CODE_TRIPLE')) \\\n",
    "    .withColumn('CODE_TRIPLE', explode('CODE_TRIPLE')) \\\n",
    "    .withColumnRenamed('COUNT', 'COUNT_TRIPLE') \\\n",
    "    .select(col('CODE_TRIPLE')[0].alias('RULE_1'), col('CODE_TRIPLE')[1].alias('RULE_2'), 'COUNT_TRIPLE') \\\n",
    "    \\\n",
    "    .join(frequent_diseases_k1, array(frequent_diseases_k1['CODE']) == col('RULE_1'), 'left') \\\n",
    "    .withColumnRenamed('COUNT', 'COUNT_1') \\\n",
    "    .drop('CODE') \\\n",
    "    .join(frequent_diseases_k2, frequent_diseases_k2['CODE_PAIR'] == col('RULE_1'), 'left') \\\n",
    "    .withColumnRenamed('COUNT', 'COUNT_1_OTHER') \\\n",
    "    .drop('CODE_PAIR') \\\n",
    "    .withColumn('COUNT_1', coalesce('COUNT_1', 'COUNT_1_OTHER')) \\\n",
    "    .drop('COUNT_1_OTHER') \\\n",
    "    \\\n",
    "    .join(frequent_diseases_k1, array(frequent_diseases_k1['CODE']) == col('RULE_2'), 'left') \\\n",
    "    .withColumnRenamed('COUNT', 'COUNT_2') \\\n",
    "    .drop('CODE') \\\n",
    "    .join(frequent_diseases_k2, frequent_diseases_k2['CODE_PAIR'] == col('RULE_2'), 'left') \\\n",
    "    .withColumnRenamed('COUNT', 'COUNT_2_OTHER') \\\n",
    "    .drop('CODE_PAIR') \\\n",
    "    .withColumn('COUNT_2', coalesce('COUNT_2', 'COUNT_2_OTHER')) \\\n",
    "    .drop('COUNT_2_OTHER') \\\n",
    "    \\\n",
    "    .show(truncate=False)\n",
    "    # .withColumnRenamed('COUNT', 'COUNT_1') \\\n",
    "    # .drop('CODE') \\\n",
    "    # .join(frequent_diseases_k1, frequent_diseases_k1['CODE'] == col('RULE_2')[0], 'inner') \\\n",
    "    # .withColumnRenamed('COUNT', 'COUNT_2') \\\n",
    "    # .drop('CODE')"
   ]
  },
  {
   "cell_type": "code",
   "execution_count": 150,
   "metadata": {},
   "outputs": [
    {
     "name": "stdout",
     "output_type": "stream",
     "text": [
      "+--------------------+------+\n",
      "|           CODE_PAIR| COUNT|\n",
      "+--------------------+------+\n",
      "|[15777000, 271737...|289176|\n",
      "+--------------------+------+\n",
      "\n"
     ]
    }
   ],
   "source": [
    "frequent_diseases_k2.filter((frequent_diseases_k2.CODE_PAIR[0] == '15777000') & (frequent_diseases_k2.CODE_PAIR[1] == '271737000')).show()"
   ]
  },
  {
   "cell_type": "code",
   "execution_count": null,
   "metadata": {},
   "outputs": [],
   "source": []
  }
 ],
 "metadata": {
  "kernelspec": {
   "display_name": "Python 3",
   "language": "python",
   "name": "python3"
  },
  "language_info": {
   "codemirror_mode": {
    "name": "ipython",
    "version": 3
   },
   "file_extension": ".py",
   "mimetype": "text/x-python",
   "name": "python",
   "nbconvert_exporter": "python",
   "pygments_lexer": "ipython3",
   "version": "3.8.10"
  },
  "orig_nbformat": 4,
  "vscode": {
   "interpreter": {
    "hash": "31f2aee4e71d21fbe5cf8b01ff0e069b9275f58929596ceb00d14d90e3e16cd6"
   }
  }
 },
 "nbformat": 4,
 "nbformat_minor": 2
}
