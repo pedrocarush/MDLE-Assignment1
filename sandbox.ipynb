{
 "cells": [
  {
   "cell_type": "markdown",
   "metadata": {},
   "source": [
    "# Assignment 1"
   ]
  },
  {
   "attachments": {},
   "cell_type": "markdown",
   "metadata": {},
   "source": [
    "## Imports"
   ]
  },
  {
   "cell_type": "code",
   "execution_count": 22,
   "metadata": {},
   "outputs": [],
   "source": [
    "import os.path\n",
    "from pyspark.sql import SparkSession\n",
    "from pyspark.sql.functions import *\n",
    "from pyspark.sql.types import StringType, ArrayType\n",
    "from itertools import combinations, chain\n",
    "from typing import Iterable, Any, List"
   ]
  },
  {
   "attachments": {},
   "cell_type": "markdown",
   "metadata": {},
   "source": [
    "## Spark initialization"
   ]
  },
  {
   "cell_type": "code",
   "execution_count": 74,
   "metadata": {},
   "outputs": [],
   "source": [
    "spark = SparkSession.builder \\\n",
    "    .appName('SandboxAssign1') \\\n",
    "    .config('spark.master', 'local[*]') \\\n",
    "    .getOrCreate()"
   ]
  },
  {
   "cell_type": "markdown",
   "metadata": {},
   "source": [
    "## Prepare the data"
   ]
  },
  {
   "cell_type": "code",
   "execution_count": 67,
   "metadata": {},
   "outputs": [],
   "source": [
    "df = spark.read \\\n",
    "    .option('header', True) \\\n",
    "    .csv('./data/conditions.csv.gz') \\\n",
    "    .drop('START', 'STOP', 'ENCOUNTER')"
   ]
  },
  {
   "cell_type": "code",
   "execution_count": 70,
   "metadata": {},
   "outputs": [
    {
     "name": "stderr",
     "output_type": "stream",
     "text": [
      "                                                                                \r"
     ]
    }
   ],
   "source": [
    "code_description_map = {r.CODE: r.DESCRIPTION\n",
    "    for r in df \\\n",
    "    .select('CODE', 'DESCRIPTION') \\\n",
    "    .distinct() \\\n",
    "    .collect()\n",
    "}"
   ]
  },
  {
   "cell_type": "code",
   "execution_count": 73,
   "metadata": {},
   "outputs": [
    {
     "name": "stderr",
     "output_type": "stream",
     "text": [
      "                                                                                \r"
     ]
    },
    {
     "data": {
      "text/plain": [
       "[Row(CODE='431855005', DESCRIPTION='Chronic kidney disease stage 1 (disorder)'),\n",
       " Row(CODE='75498004', DESCRIPTION='Acute bacterial sinusitis (disorder)'),\n",
       " Row(CODE='93761005', DESCRIPTION='Primary malignant neoplasm of colon'),\n",
       " Row(CODE='254632001', DESCRIPTION='Small cell carcinoma of lung (disorder)'),\n",
       " Row(CODE='59621000', DESCRIPTION='Hypertension'),\n",
       " Row(CODE='86849004', DESCRIPTION='Suicidal deliberate poisoning'),\n",
       " Row(CODE='40055000', DESCRIPTION='Chronic sinusitis (disorder)'),\n",
       " Row(CODE='62106007', DESCRIPTION='Concussion with no loss of consciousness'),\n",
       " Row(CODE='69896004', DESCRIPTION='Rheumatoid arthritis'),\n",
       " Row(CODE='15777000', DESCRIPTION='Prediabetes'),\n",
       " Row(CODE='11218009', DESCRIPTION='Infection caused by Pseudomonas aeruginosa'),\n",
       " Row(CODE='197927001', DESCRIPTION='Recurrent urinary tract infection'),\n",
       " Row(CODE='448813005', DESCRIPTION='Sepsis caused by Pseudomonas (disorder)'),\n",
       " Row(CODE='403192003', DESCRIPTION='Third degree burn'),\n",
       " Row(CODE='88805009', DESCRIPTION='Chronic congestive heart failure (disorder)'),\n",
       " Row(CODE='403191005', DESCRIPTION='Second degree burn'),\n",
       " Row(CODE='19169002', DESCRIPTION='Miscarriage in first trimester'),\n",
       " Row(CODE='302870006', DESCRIPTION='Hypertriglyceridemia (disorder)'),\n",
       " Row(CODE='233678006', DESCRIPTION='Childhood asthma'),\n",
       " Row(CODE='254637007', DESCRIPTION='Non-small cell lung cancer (disorder)'),\n",
       " Row(CODE='399211009', DESCRIPTION='History of myocardial infarction (situation)'),\n",
       " Row(CODE='90560007', DESCRIPTION='Gout'),\n",
       " Row(CODE='157141000119108', DESCRIPTION='Proteinuria due to type 2 diabetes mellitus (disorder)'),\n",
       " Row(CODE='92691004', DESCRIPTION='Carcinoma in situ of prostate (disorder)'),\n",
       " Row(CODE='190905008', DESCRIPTION='Cystic Fibrosis'),\n",
       " Row(CODE='55822004', DESCRIPTION='Hyperlipidemia'),\n",
       " Row(CODE='444814009', DESCRIPTION='Viral sinusitis (disorder)'),\n",
       " Row(CODE='427089005', DESCRIPTION='Male Infertility'),\n",
       " Row(CODE='26929004', DESCRIPTION=\"Alzheimer's disease (disorder)\"),\n",
       " Row(CODE='127013003', DESCRIPTION='Diabetic renal disease (disorder)'),\n",
       " Row(CODE='195967001', DESCRIPTION='Asthma'),\n",
       " Row(CODE='446096008', DESCRIPTION='Perennial allergic rhinitis'),\n",
       " Row(CODE='254837009', DESCRIPTION='Malignant neoplasm of breast (disorder)'),\n",
       " Row(CODE='162573006', DESCRIPTION='Suspected lung cancer (situation)'),\n",
       " Row(CODE='22298006', DESCRIPTION='Myocardial Infarction'),\n",
       " Row(CODE='38822007', DESCRIPTION='Cystitis'),\n",
       " Row(CODE='7200002', DESCRIPTION='Alcoholism'),\n",
       " Row(CODE='95417003', DESCRIPTION='Primary fibromyalgia syndrome'),\n",
       " Row(CODE='314994000', DESCRIPTION='Metastasis from malignant tumor of prostate (disorder)'),\n",
       " Row(CODE='284551006', DESCRIPTION='Laceration of foot'),\n",
       " Row(CODE='128613002', DESCRIPTION='Seizure disorder'),\n",
       " Row(CODE='367498001', DESCRIPTION='Seasonal allergic rhinitis'),\n",
       " Row(CODE='370247008', DESCRIPTION='Facial laceration'),\n",
       " Row(CODE='126906006', DESCRIPTION='Neoplasm of prostate'),\n",
       " Row(CODE='236077008', DESCRIPTION='Protracted diarrhea'),\n",
       " Row(CODE='429280009', DESCRIPTION='History of amputation of foot (situation)'),\n",
       " Row(CODE='62564004', DESCRIPTION='Concussion with loss of consciousness'),\n",
       " Row(CODE='33737001', DESCRIPTION='Fracture of rib'),\n",
       " Row(CODE='94260004', DESCRIPTION='Secondary malignant neoplasm of colon'),\n",
       " Row(CODE='124171000119105', DESCRIPTION='Chronic intractable migraine without aura'),\n",
       " Row(CODE='698754002', DESCRIPTION='Chronic paralysis due to lesion of spinal cord'),\n",
       " Row(CODE='198992004', DESCRIPTION='Antepartum eclampsia'),\n",
       " Row(CODE='5602001', DESCRIPTION='Opioid abuse (disorder)'),\n",
       " Row(CODE='448417001', DESCRIPTION='Sepsis caused by Staphylococcus aureus'),\n",
       " Row(CODE='47505003', DESCRIPTION='Posttraumatic stress disorder'),\n",
       " Row(CODE='359817006', DESCRIPTION='Closed fracture of hip'),\n",
       " Row(CODE='16114001', DESCRIPTION='Fracture of ankle'),\n",
       " Row(CODE='424132000', DESCRIPTION='Non-small cell carcinoma of lung  TNM stage 1 (disorder)'),\n",
       " Row(CODE='239873007', DESCRIPTION='Osteoarthritis of knee'),\n",
       " Row(CODE='370143000', DESCRIPTION='Major depression disorder'),\n",
       " Row(CODE='410429000', DESCRIPTION='Cardiac Arrest'),\n",
       " Row(CODE='275272006', DESCRIPTION='Brain damage - traumatic'),\n",
       " Row(CODE='44465007', DESCRIPTION='Sprain of ankle'),\n",
       " Row(CODE='36971009', DESCRIPTION='Sinusitis (disorder)'),\n",
       " Row(CODE='443165006', DESCRIPTION='Pathological fracture due to osteoporosis (disorder)'),\n",
       " Row(CODE='271737000', DESCRIPTION='Anemia (disorder)'),\n",
       " Row(CODE='49436004', DESCRIPTION='Atrial Fibrillation'),\n",
       " Row(CODE='406602003', DESCRIPTION='Infection caused by Staphylococcus aureus'),\n",
       " Row(CODE='230265002', DESCRIPTION=\"Familial Alzheimer's disease of early onset (disorder)\"),\n",
       " Row(CODE='43878008', DESCRIPTION='Streptococcal sore throat (disorder)'),\n",
       " Row(CODE='161622006', DESCRIPTION='History of lower limb amputation (situation)'),\n",
       " Row(CODE='55680006', DESCRIPTION='Drug overdose'),\n",
       " Row(CODE='67811000119102', DESCRIPTION='Primary small cell malignant neoplasm of lung  TNM stage 1 (disorder)'),\n",
       " Row(CODE='35999006', DESCRIPTION='Blighted ovum'),\n",
       " Row(CODE='1734006', DESCRIPTION='Fracture of the vertebral column with spinal cord injury'),\n",
       " Row(CODE='307731004', DESCRIPTION='Injury of tendon of the rotator cuff of shoulder'),\n",
       " Row(CODE='15724005', DESCRIPTION='Fracture of vertebral column without spinal cord injury'),\n",
       " Row(CODE='703151001', DESCRIPTION='History of single seizure (situation)'),\n",
       " Row(CODE='195662009', DESCRIPTION='Acute viral pharyngitis (disorder)'),\n",
       " Row(CODE='368581000119106', DESCRIPTION='Neuropathy due to type 2 diabetes mellitus (disorder)'),\n",
       " Row(CODE='201834006', DESCRIPTION='Localized  primary osteoarthritis of the hand'),\n",
       " Row(CODE='262574004', DESCRIPTION='Bullet wound'),\n",
       " Row(CODE='109838007', DESCRIPTION='Overlapping malignant neoplasm of colon'),\n",
       " Row(CODE='53741008', DESCRIPTION='Coronary Heart Disease'),\n",
       " Row(CODE='713197008', DESCRIPTION='Recurrent rectal polyp'),\n",
       " Row(CODE='428251008', DESCRIPTION='History of appendectomy'),\n",
       " Row(CODE='47693006', DESCRIPTION='Rupture of appendix'),\n",
       " Row(CODE='156073000', DESCRIPTION='Fetus with unknown complication'),\n",
       " Row(CODE='161621004', DESCRIPTION='History of upper limb amputation (situation)'),\n",
       " Row(CODE='427089005', DESCRIPTION='Diabetes from Cystic Fibrosis'),\n",
       " Row(CODE='30832001', DESCRIPTION='Rupture of patellar tendon'),\n",
       " Row(CODE='444448004', DESCRIPTION='Injury of medial collateral ligament of knee'),\n",
       " Row(CODE='241929008', DESCRIPTION='Acute allergic reaction'),\n",
       " Row(CODE='232353008', DESCRIPTION='Perennial allergic rhinitis with seasonal variation'),\n",
       " Row(CODE='6072007', DESCRIPTION='Bleeding from anus'),\n",
       " Row(CODE='287182007', DESCRIPTION='Attempted suicide - suffocation'),\n",
       " Row(CODE='24079001', DESCRIPTION='Atopic dermatitis'),\n",
       " Row(CODE='403190006', DESCRIPTION='First degree burn'),\n",
       " Row(CODE='65275009', DESCRIPTION='Acute Cholecystitis'),\n",
       " Row(CODE='233604007', DESCRIPTION='Pneumonia'),\n",
       " Row(CODE='80394007', DESCRIPTION='Hyperglycemia (disorder)'),\n",
       " Row(CODE='1551000119108', DESCRIPTION='Nonproliferative diabetic retinopathy due to type 2 diabetes mellitus (disorder)'),\n",
       " Row(CODE='1501000119109', DESCRIPTION='Proliferative diabetic retinopathy due to type II diabetes mellitus (disorder)'),\n",
       " Row(CODE='70704007', DESCRIPTION='Sprain of wrist'),\n",
       " Row(CODE='283371005', DESCRIPTION='Laceration of forearm'),\n",
       " Row(CODE='90781000119102', DESCRIPTION='Microalbuminuria due to type 2 diabetes mellitus (disorder)'),\n",
       " Row(CODE='192127007', DESCRIPTION='Child attention deficit disorder'),\n",
       " Row(CODE='707577004', DESCRIPTION='Female Infertility'),\n",
       " Row(CODE='408512008', DESCRIPTION='Body mass index 40+ - severely obese (finding)'),\n",
       " Row(CODE='68496003', DESCRIPTION='Polyp of colon'),\n",
       " Row(CODE='301011002', DESCRIPTION='Escherichia coli urinary tract infection'),\n",
       " Row(CODE='65966004', DESCRIPTION='Fracture of forearm'),\n",
       " Row(CODE='64859006', DESCRIPTION='Osteoporosis (disorder)'),\n",
       " Row(CODE='425048006', DESCRIPTION='Non-small cell carcinoma of lung  TNM stage 2 (disorder)'),\n",
       " Row(CODE='10509002', DESCRIPTION='Acute bronchitis (disorder)'),\n",
       " Row(CODE='206523001', DESCRIPTION='Meconium Ileus'),\n",
       " Row(CODE='449868002', DESCRIPTION='Smokes tobacco daily'),\n",
       " Row(CODE='263102004', DESCRIPTION='Fracture subluxation of wrist'),\n",
       " Row(CODE='65710008', DESCRIPTION='Acute respiratory failure (disorder)'),\n",
       " Row(CODE='444470001', DESCRIPTION='Injury of anterior cruciate ligament'),\n",
       " Row(CODE='237602007', DESCRIPTION='Metabolic syndrome X (disorder)'),\n",
       " Row(CODE='58150001', DESCRIPTION='Fracture of clavicle'),\n",
       " Row(CODE='83664006', DESCRIPTION='Idiopathic atrophic hypothyroidism'),\n",
       " Row(CODE='287185009', DESCRIPTION='Attempted suicide - cut/stab'),\n",
       " Row(CODE='429007001', DESCRIPTION='History of cardiac arrest (situation)'),\n",
       " Row(CODE='44054006', DESCRIPTION='Diabetes'),\n",
       " Row(CODE='162864005', DESCRIPTION='Body mass index 30+ - obesity (finding)'),\n",
       " Row(CODE='72892002', DESCRIPTION='Normal pregnancy'),\n",
       " Row(CODE='284549007', DESCRIPTION='Laceration of hand'),\n",
       " Row(CODE='127295002', DESCRIPTION='Traumatic brain injury (disorder)'),\n",
       " Row(CODE='239872002', DESCRIPTION='Osteoarthritis of hip'),\n",
       " Row(CODE='36923009', DESCRIPTION='Major depression  single episode'),\n",
       " Row(CODE='45816000', DESCRIPTION='Pyelonephritis'),\n",
       " Row(CODE='40275004', DESCRIPTION='Contact dermatitis'),\n",
       " Row(CODE='422034002', DESCRIPTION='Diabetic retinopathy associated with type II diabetes mellitus (disorder)'),\n",
       " Row(CODE='110030002', DESCRIPTION='Concussion injury of brain'),\n",
       " Row(CODE='398254007', DESCRIPTION='Preeclampsia'),\n",
       " Row(CODE='74400008', DESCRIPTION='Appendicitis'),\n",
       " Row(CODE='48333001', DESCRIPTION='Burn injury(morphologic abnormality)'),\n",
       " Row(CODE='433144002', DESCRIPTION='Chronic kidney disease stage 3 (disorder)'),\n",
       " Row(CODE='225444004', DESCRIPTION='At risk for suicide (finding)'),\n",
       " Row(CODE='698423002', DESCRIPTION='History of disarticulation at wrist (situation)'),\n",
       " Row(CODE='84757009', DESCRIPTION='Epilepsy'),\n",
       " Row(CODE='431856006', DESCRIPTION='Chronic kidney disease stage 2 (disorder)'),\n",
       " Row(CODE='82423001', DESCRIPTION='Chronic pain'),\n",
       " Row(CODE='185086009', DESCRIPTION='Chronic obstructive bronchitis (disorder)'),\n",
       " Row(CODE='235919008', DESCRIPTION='Cholelithiasis'),\n",
       " Row(CODE='87433001', DESCRIPTION='Pulmonary emphysema (disorder)'),\n",
       " Row(CODE='239720000', DESCRIPTION='Tear of meniscus of knee'),\n",
       " Row(CODE='97331000119101', DESCRIPTION='Macular edema and retinopathy due to type 2 diabetes mellitus (disorder)'),\n",
       " Row(CODE='47200007', DESCRIPTION='Non-low risk pregnancy'),\n",
       " Row(CODE='196416002', DESCRIPTION='Impacted molars'),\n",
       " Row(CODE='60951000119105', DESCRIPTION='Blindness due to type 2 diabetes mellitus (disorder)'),\n",
       " Row(CODE='363406005', DESCRIPTION='Malignant tumor of colon'),\n",
       " Row(CODE='79586000', DESCRIPTION='Tubal pregnancy'),\n",
       " Row(CODE='200936003', DESCRIPTION='Lupus erythematosus'),\n",
       " Row(CODE='39848009', DESCRIPTION='Whiplash injury to neck'),\n",
       " Row(CODE='283385000', DESCRIPTION='Laceration of thigh'),\n",
       " Row(CODE='230690007', DESCRIPTION='Stroke'),\n",
       " Row(CODE='65363002', DESCRIPTION='Otitis media')]"
      ]
     },
     "execution_count": 73,
     "metadata": {},
     "output_type": "execute_result"
    }
   ],
   "source": [
    "df.select('CODE', 'DESCRIPTION') \\\n",
    ".distinct() \\\n",
    ".collect()"
   ]
  },
  {
   "cell_type": "code",
   "execution_count": 72,
   "metadata": {},
   "outputs": [
    {
     "data": {
      "text/plain": [
       "159"
      ]
     },
     "execution_count": 72,
     "metadata": {},
     "output_type": "execute_result"
    }
   ],
   "source": [
    "len(code_description_map)"
   ]
  },
  {
   "cell_type": "code",
   "execution_count": 5,
   "metadata": {},
   "outputs": [],
   "source": [
    "df = df.drop('DESCRIPTION').distinct()"
   ]
  },
  {
   "attachments": {},
   "cell_type": "markdown",
   "metadata": {},
   "source": [
    "## A-priori algorithm"
   ]
  },
  {
   "cell_type": "code",
   "execution_count": 6,
   "metadata": {},
   "outputs": [],
   "source": [
    "support_threshold = 1000"
   ]
  },
  {
   "cell_type": "markdown",
   "metadata": {},
   "source": [
    "### First pass"
   ]
  },
  {
   "cell_type": "code",
   "execution_count": 7,
   "metadata": {},
   "outputs": [
    {
     "name": "stderr",
     "output_type": "stream",
     "text": [
      "                                                                                \r"
     ]
    }
   ],
   "source": [
    "if not os.path.exists('frequent_diseases_k1'):\n",
    "    frequent_diseases_k1 = df \\\n",
    "        .groupBy('CODE') \\\n",
    "        .count() \\\n",
    "        .withColumnRenamed('count', 'COUNT') \\\n",
    "        .filter(col('COUNT') >= support_threshold)\n",
    "    \n",
    "    frequent_diseases_k1.write.mode('overwrite').parquet(path='frequent_diseases_k1', compression='gzip')\n",
    "\n",
    "frequent_diseases_k1 = spark.read.parquet('frequent_diseases_k1')"
   ]
  },
  {
   "cell_type": "code",
   "execution_count": 8,
   "metadata": {},
   "outputs": [
    {
     "name": "stderr",
     "output_type": "stream",
     "text": [
      "                                                                                \r"
     ]
    }
   ],
   "source": [
    "frequent_diseases_k1_set = {r.CODE for r in frequent_diseases_k1.select('CODE').collect()}"
   ]
  },
  {
   "cell_type": "code",
   "execution_count": 9,
   "metadata": {},
   "outputs": [
    {
     "data": {
      "text/plain": [
       "131"
      ]
     },
     "execution_count": 9,
     "metadata": {},
     "output_type": "execute_result"
    }
   ],
   "source": [
    "len(frequent_diseases_k1_set)   # 131"
   ]
  },
  {
   "attachments": {},
   "cell_type": "markdown",
   "metadata": {},
   "source": [
    "### Second pass"
   ]
  },
  {
   "cell_type": "code",
   "execution_count": 10,
   "metadata": {},
   "outputs": [],
   "source": [
    "@udf(returnType=ArrayType(ArrayType(StringType(), False), False))\n",
    "def combine_pairs(elems: Iterable[Any]):\n",
    "    return list(combinations(elems, 2))"
   ]
  },
  {
   "cell_type": "code",
   "execution_count": 11,
   "metadata": {},
   "outputs": [],
   "source": [
    "if False:\n",
    "    from pyspark.sql import Row\n",
    "\n",
    "    df_test = spark.createDataFrame([\n",
    "        Row(a=0, b=[1,2,3,8], c=list(combinations([1,2,3,8], 2))),\n",
    "        Row(a=1, b=[4,5,6], c=list(combinations([4,5,6], 2))),\n",
    "        Row(a=2, b=[1,5,7], c=list(combinations([1,5,7], 2))),\n",
    "    ])\n",
    "\n",
    "    df_test.withColumn('c', explode('c')).show()"
   ]
  },
  {
   "cell_type": "code",
   "execution_count": 12,
   "metadata": {},
   "outputs": [],
   "source": [
    "if not os.path.exists('frequent_diseases_k2'):\n",
    "    # ???\n",
    "    frequent_diseases_k2 = df \\\n",
    "        .filter(col('CODE').isin(frequent_diseases_k1_set)) \\\n",
    "        .groupBy('PATIENT') \\\n",
    "        .agg(collect_list('CODE')) \\\n",
    "        .withColumn('CODE_PAIRS', combine_pairs('collect_list(CODE)')) \\\n",
    "        .select('PATIENT', 'CODE_PAIRS') \\\n",
    "        .withColumn('CODE_PAIR', explode('CODE_PAIRS')) \\\n",
    "        .drop('CODE_PAIRS') \\\n",
    "        .withColumn('CODE_PAIR', array_sort('CODE_PAIR')) \\\n",
    "        .groupBy('CODE_PAIR') \\\n",
    "        .count() \\\n",
    "        .withColumnRenamed('count', 'COUNT') \\\n",
    "        .filter(col('COUNT') >= support_threshold)\n",
    "    \n",
    "    frequent_diseases_k2.write.mode('overwrite').parquet(path='frequent_diseases_k2', compression='gzip')\n",
    "\n",
    "frequent_diseases_k2 = spark.read.parquet('frequent_diseases_k2')"
   ]
  },
  {
   "cell_type": "code",
   "execution_count": 13,
   "metadata": {},
   "outputs": [
    {
     "name": "stderr",
     "output_type": "stream",
     "text": [
      "                                                                                \r"
     ]
    }
   ],
   "source": [
    "frequent_diseases_k2_set = {tuple(r.CODE_PAIR) for r in frequent_diseases_k2.select('CODE_PAIR').collect()}"
   ]
  },
  {
   "cell_type": "code",
   "execution_count": 14,
   "metadata": {},
   "outputs": [
    {
     "data": {
      "text/plain": [
       "2940"
      ]
     },
     "execution_count": 14,
     "metadata": {},
     "output_type": "execute_result"
    }
   ],
   "source": [
    "len(frequent_diseases_k2_set)   # 2940"
   ]
  },
  {
   "cell_type": "markdown",
   "metadata": {},
   "source": [
    "### Third Pass"
   ]
  },
  {
   "cell_type": "code",
   "execution_count": 15,
   "metadata": {},
   "outputs": [],
   "source": [
    "@udf(returnType=ArrayType(ArrayType(StringType(), False), False))\n",
    "def combine_triples(elems: Iterable[Any]):\n",
    "\n",
    "    triples = list(combinations(elems, 3))\n",
    "\n",
    "    triples = [\n",
    "        combination for combination in triples\n",
    "        if ((combination[0], combination[1]) in frequent_diseases_k2_set\n",
    "            and (combination[0], combination[2]) in frequent_diseases_k2_set\n",
    "            and (combination[1], combination[2]) in frequent_diseases_k2_set)\n",
    "    ]\n",
    "        \n",
    "    return triples"
   ]
  },
  {
   "cell_type": "code",
   "execution_count": 16,
   "metadata": {},
   "outputs": [],
   "source": [
    "if not os.path.exists('frequent_diseases_k3'):\n",
    "    frequent_diseases_k3 = df \\\n",
    "        .filter(col('CODE').isin(frequent_diseases_k1_set)) \\\n",
    "        .groupBy('PATIENT') \\\n",
    "        .agg(collect_list('CODE')) \\\n",
    "        .withColumn('collect_list(CODE)', array_sort('collect_list(CODE)')) \\\n",
    "        .withColumn('CODE_TRIPLES', combine_triples('collect_list(CODE)')) \\\n",
    "        .select('PATIENT', 'CODE_TRIPLES') \\\n",
    "        .withColumn('CODE_TRIPLE', explode('CODE_TRIPLES')) \\\n",
    "        .drop('CODE_TRIPLES') \\\n",
    "        .groupBy('CODE_TRIPLE') \\\n",
    "        .count() \\\n",
    "        .withColumnRenamed('count', 'COUNT') \\\n",
    "        .filter(col('COUNT') >= support_threshold)\n",
    "\n",
    "    frequent_diseases_k3.write.mode('overwrite').parquet(path='frequent_diseases_k3', compression='gzip')\n",
    "\n",
    "frequent_diseases_k3 = spark.read.parquet('frequent_diseases_k3')"
   ]
  },
  {
   "cell_type": "code",
   "execution_count": 17,
   "metadata": {},
   "outputs": [
    {
     "name": "stderr",
     "output_type": "stream",
     "text": [
      "                                                                                \r"
     ]
    }
   ],
   "source": [
    "frequent_diseases_k3_set = {tuple(r.CODE_TRIPLE) for r in frequent_diseases_k3.select('CODE_TRIPLE').collect()}"
   ]
  },
  {
   "cell_type": "code",
   "execution_count": 18,
   "metadata": {},
   "outputs": [
    {
     "data": {
      "text/plain": [
       "13390"
      ]
     },
     "execution_count": 18,
     "metadata": {},
     "output_type": "execute_result"
    }
   ],
   "source": [
    "len(frequent_diseases_k3_set)   # 13395"
   ]
  },
  {
   "cell_type": "markdown",
   "metadata": {},
   "source": [
    "### Most frequent"
   ]
  },
  {
   "cell_type": "code",
   "execution_count": 39,
   "metadata": {},
   "outputs": [
    {
     "name": "stderr",
     "output_type": "stream",
     "text": [
      "                                                                                \r"
     ]
    }
   ],
   "source": [
    "with open('most_frequent_k2.txt', 'w') as f:\n",
    "    print('pair\\tcount', file=f)\n",
    "    print(*(\n",
    "            f'{r.CODE_PAIR}\\t{r.COUNT}' for r in\n",
    "            frequent_diseases_k2.sort('COUNT', ascending=False).take(10)\n",
    "        ), sep='\\n', file=f)"
   ]
  },
  {
   "cell_type": "code",
   "execution_count": 41,
   "metadata": {},
   "outputs": [
    {
     "name": "stderr",
     "output_type": "stream",
     "text": [
      "                                                                                \r"
     ]
    }
   ],
   "source": [
    "with open('most_frequent_k3.txt', 'w') as f:\n",
    "    print('pair\\tcount', file=f)\n",
    "    print(*(\n",
    "            f'{r.CODE_TRIPLE}\\t{r.COUNT}' for r in\n",
    "            frequent_diseases_k3.sort('COUNT', ascending=False).take(10)\n",
    "        ), sep='\\n', file=f)"
   ]
  },
  {
   "attachments": {},
   "cell_type": "markdown",
   "metadata": {},
   "source": [
    "### Rules"
   ]
  },
  {
   "cell_type": "code",
   "execution_count": 25,
   "metadata": {},
   "outputs": [
    {
     "name": "stderr",
     "output_type": "stream",
     "text": [
      "                                                                                \r"
     ]
    }
   ],
   "source": [
    "n_patients = df.select('PATIENT').distinct().count()"
   ]
  },
  {
   "cell_type": "code",
   "execution_count": 23,
   "metadata": {},
   "outputs": [],
   "source": [
    "@udf(returnType=ArrayType(ArrayType(ArrayType(StringType(), False), False), False))\n",
    "def inner_subsets(itemset: List[str]):\n",
    "    itemset = set(itemset)\n",
    "    combis = chain.from_iterable(list(map(set, combinations(itemset, k))) for k in range(1, len(itemset)))\n",
    "    return list((sorted(combi), sorted(itemset - combi)) for combi in combis)"
   ]
  },
  {
   "cell_type": "code",
   "execution_count": 24,
   "metadata": {},
   "outputs": [],
   "source": [
    "rules_k2 = frequent_diseases_k2 \\\n",
    "    .withColumn('CODE_PAIR', inner_subsets('CODE_PAIR')) \\\n",
    "    .withColumn('CODE_PAIR', explode('CODE_PAIR')) \\\n",
    "    .withColumnRenamed('COUNT', 'COUNT_PAIR') \\\n",
    "    .select(col('CODE_PAIR')[0].alias('RULE_1'), col('CODE_PAIR')[1].alias('RULE_2'), 'COUNT_PAIR') \\\n",
    "    .join(frequent_diseases_k1, frequent_diseases_k1['CODE'] == col('RULE_1')[0], 'inner') \\\n",
    "    .withColumnRenamed('COUNT', 'COUNT_1') \\\n",
    "    .drop('CODE') \\\n",
    "    .join(frequent_diseases_k1, frequent_diseases_k1['CODE'] == col('RULE_2')[0], 'inner') \\\n",
    "    .withColumnRenamed('COUNT', 'COUNT_2') \\\n",
    "    .drop('CODE')"
   ]
  },
  {
   "cell_type": "code",
   "execution_count": 35,
   "metadata": {},
   "outputs": [],
   "source": [
    "rules_k2_metrics = rules_k2 \\\n",
    "    .withColumn('CONFIDENCE', col('COUNT_PAIR') / col('COUNT_1')) \\\n",
    "    .withColumn('INTEREST', col('CONFIDENCE') - col('COUNT_2') / n_patients) \\\n",
    "    .withColumn('LIFT', n_patients * col('CONFIDENCE') / col('COUNT_2')) \\\n",
    "    .withColumn('STANDARDISED_LIFT', \n",
    "                (col('LIFT') - array_max(array(\n",
    "                    (col('COUNT_1') + col('COUNT_2')) / n_patients - 1,\n",
    "                    lit(1 / n_patients)\n",
    "                )) / (col('COUNT_1') * col('COUNT_2') / (n_patients ** 2)))\n",
    "                /\n",
    "                ((n_patients / array_max(array(col('COUNT_1'), col('COUNT_2')))) - array_max(array(\n",
    "                    (col('COUNT_1') + col('COUNT_2')) / n_patients - 1,\n",
    "                    lit(1 / n_patients)\n",
    "                )) / (col('COUNT_1') * col('COUNT_2') / (n_patients ** 2)))\n",
    "    ) \\\n",
    "    .filter(col('STANDARDISED_LIFT') >= 0.2) \\\n",
    "    .sort('STANDARDISED_LIFT', ascending=False)"
   ]
  },
  {
   "cell_type": "code",
   "execution_count": 29,
   "metadata": {},
   "outputs": [],
   "source": [
    "rules_k3 = frequent_diseases_k3 \\\n",
    "    .withColumn('CODE_TRIPLE', inner_subsets('CODE_TRIPLE')) \\\n",
    "    .withColumn('CODE_TRIPLE', explode('CODE_TRIPLE')) \\\n",
    "    .withColumnRenamed('COUNT', 'COUNT_TRIPLE') \\\n",
    "    .select(col('CODE_TRIPLE')[0].alias('RULE_1'), col('CODE_TRIPLE')[1].alias('RULE_2'), 'COUNT_TRIPLE') \\\n",
    "    \\\n",
    "    .join(frequent_diseases_k1, array(frequent_diseases_k1['CODE']) == col('RULE_1'), 'left') \\\n",
    "    .withColumnRenamed('COUNT', 'COUNT_1') \\\n",
    "    .drop('CODE') \\\n",
    "    .join(frequent_diseases_k2, frequent_diseases_k2['CODE_PAIR'] == col('RULE_1'), 'left') \\\n",
    "    .withColumnRenamed('COUNT', 'COUNT_1_OTHER') \\\n",
    "    .drop('CODE_PAIR') \\\n",
    "    .withColumn('COUNT_1', coalesce('COUNT_1', 'COUNT_1_OTHER')) \\\n",
    "    .drop('COUNT_1_OTHER') \\\n",
    "    \\\n",
    "    .join(frequent_diseases_k1, array(frequent_diseases_k1['CODE']) == col('RULE_2'), 'left') \\\n",
    "    .withColumnRenamed('COUNT', 'COUNT_2') \\\n",
    "    .drop('CODE') \\\n",
    "    .join(frequent_diseases_k2, frequent_diseases_k2['CODE_PAIR'] == col('RULE_2'), 'left') \\\n",
    "    .withColumnRenamed('COUNT', 'COUNT_2_OTHER') \\\n",
    "    .drop('CODE_PAIR') \\\n",
    "    .withColumn('COUNT_2', coalesce('COUNT_2', 'COUNT_2_OTHER')) \\\n",
    "    .drop('COUNT_2_OTHER')"
   ]
  },
  {
   "cell_type": "code",
   "execution_count": 34,
   "metadata": {},
   "outputs": [],
   "source": [
    "rules_k3_metrics = rules_k3 \\\n",
    "    .withColumn('CONFIDENCE', col('COUNT_TRIPLE') / col('COUNT_1')) \\\n",
    "    .withColumn('INTEREST', col('CONFIDENCE') - col('COUNT_2') / n_patients) \\\n",
    "    .withColumn('LIFT', n_patients * col('CONFIDENCE') / col('COUNT_2')) \\\n",
    "    .withColumn('STANDARDISED_LIFT', \n",
    "                (col('LIFT') - array_max(array(\n",
    "                    (col('COUNT_1') + col('COUNT_2')) / n_patients - 1,\n",
    "                    lit(1 / n_patients)\n",
    "                )) / (col('COUNT_1') * col('COUNT_2') / (n_patients ** 2)))\n",
    "                /\n",
    "                ((n_patients / array_max(array(col('COUNT_1'), col('COUNT_2')))) - array_max(array(\n",
    "                    (col('COUNT_1') + col('COUNT_2')) / n_patients - 1,\n",
    "                    lit(1 / n_patients)\n",
    "                )) / (col('COUNT_1') * col('COUNT_2') / (n_patients ** 2)))\n",
    "    ) \\\n",
    "    .filter(col('STANDARDISED_LIFT') >= 0.2) \\\n",
    "    .sort('STANDARDISED_LIFT', ascending=False)"
   ]
  },
  {
   "cell_type": "markdown",
   "metadata": {},
   "source": [
    "### Printing"
   ]
  },
  {
   "cell_type": "code",
   "execution_count": 36,
   "metadata": {},
   "outputs": [
    {
     "name": "stderr",
     "output_type": "stream",
     "text": [
      "[Stage 27:=========================================>                (5 + 2) / 7]\r"
     ]
    },
    {
     "name": "stdout",
     "output_type": "stream",
     "text": [
      "+----------------+----------------+----------+-------+-------+-------------------+-------------------+------------------+------------------+\n",
      "|RULE_1          |RULE_2          |COUNT_PAIR|COUNT_1|COUNT_2|CONFIDENCE         |INTEREST           |LIFT              |STANDARDISED_LIFT |\n",
      "+----------------+----------------+----------+-------+-------+-------------------+-------------------+------------------+------------------+\n",
      "|[44054006]      |[422034002]     |20456     |77306  |20456  |0.26461076759889274|0.24693938821884232|14.973973559620212|1.0000000000000002|\n",
      "|[1551000119108] |[1501000119109] |3035      |11705  |3035   |0.25929090132422045|0.2566690477644603 |98.89602733874415 |1.0000000000000002|\n",
      "|[72892002]      |[398254007]     |22959     |205390 |22959  |0.11178246263206583|0.09194880995380139|5.635999805248552 |1.0000000000000002|\n",
      "|[44054006]      |[1551000119108] |11705     |77306  |11705  |0.1514112746746695 |0.14129964504798342|14.973973559620212|1.0000000000000002|\n",
      "|[67811000119102]|[254632001]     |2249      |2249   |2250   |1.0                |0.998056286487822  |514.4791111111111 |1.0               |\n",
      "|[128613002]     |[703151001]     |42693     |42693  |42693  |1.0                |0.9631186840109263 |27.11399995315391 |1.0               |\n",
      "|[47693006]      |[74400008]      |16103     |16103  |53933  |1.0                |0.9534087551767569 |21.463259970704392|1.0               |\n",
      "|[97331000119101]|[422034002]     |4291      |4291   |20456  |1.0                |0.9823286206199496 |56.58867813844349 |1.0               |\n",
      "|[198992004]     |[72892002]      |22738     |22738  |205390 |1.0                |0.8225691918816702 |5.635999805248551 |1.0               |\n",
      "|[713197008]     |[68496003]      |25903     |25903  |85587  |1.0                |0.9260637296147646 |13.525161531541006|1.0               |\n",
      "|[44054006]      |[431855005]     |32321     |77306  |32321  |0.4180917393216568 |0.3901705106873876 |14.97397355962021 |1.0               |\n",
      "|[72892002]      |[198992004]     |22738     |205390 |22738  |0.11070646087930279|0.09106372406156783|5.635999805248551 |1.0               |\n",
      "|[237602007]     |[302870006]     |74395     |74395  |75992  |1.0                |0.9343525879033637 |15.232892936098537|1.0               |\n",
      "|[6072007]       |[94260004]      |2049      |4422   |2049   |0.4633649932157395 |0.4615949181106494 |261.77702397105384|1.0               |\n",
      "|[302870006]     |[237602007]     |74395     |75992  |74395  |0.9789846299610485 |0.9147168225217226 |15.232892936098537|1.0               |\n",
      "|[254632001]     |[67811000119102]|2249      |2250   |2249   |0.9995555555555555 |0.9976127059160496 |514.4791111111111 |1.0               |\n",
      "|[703151001]     |[128613002]     |42693     |42693  |42693  |1.0                |0.9631186840109263 |27.11399995315391 |1.0               |\n",
      "|[64859006]      |[443165006]     |17268     |55301  |17268  |0.3122547512703206 |0.2973373979688584 |20.9323158713224  |1.0               |\n",
      "|[424132000]     |[162573006]     |12747     |12747  |15017  |1.0                |0.9870272240833879 |77.084504228541   |1.0               |\n",
      "|[72892002]      |[35999006]      |17873     |205390 |17873  |0.0870198159598812 |0.07157981969181115|5.635999805248551 |1.0               |\n",
      "+----------------+----------------+----------+-------+-------+-------------------+-------------------+------------------+------------------+\n",
      "only showing top 20 rows\n",
      "\n"
     ]
    },
    {
     "name": "stderr",
     "output_type": "stream",
     "text": [
      "                                                                                \r"
     ]
    }
   ],
   "source": [
    "rules_k2_metrics.show(truncate=False)"
   ]
  },
  {
   "cell_type": "code",
   "execution_count": 64,
   "metadata": {},
   "outputs": [],
   "source": [
    "@udf(returnType=StringType())\n",
    "def format_rule(rule_1: List[str], rule_2: List[str], *values: List[Any]):\n",
    "    return f'{{{\", \".join(rule_1)}}} -> {{{\", \".join(rule_2)}}}: {\", \".join(map(str, values))}'"
   ]
  },
  {
   "cell_type": "code",
   "execution_count": 69,
   "metadata": {},
   "outputs": [
    {
     "name": "stderr",
     "output_type": "stream",
     "text": [
      "                                                                                \r"
     ]
    },
    {
     "data": {
      "text/plain": [
       "160"
      ]
     },
     "execution_count": 69,
     "metadata": {},
     "output_type": "execute_result"
    }
   ],
   "source": [
    "code_description_df.count()"
   ]
  },
  {
   "cell_type": "code",
   "execution_count": 65,
   "metadata": {},
   "outputs": [
    {
     "name": "stderr",
     "output_type": "stream",
     "text": [
      "[Stage 37:=========================================>                (5 + 2) / 7]\r"
     ]
    },
    {
     "name": "stdout",
     "output_type": "stream",
     "text": [
      "+------------------------------------------------------------------------------------------------------------------+\n",
      "|format_rule(RULE_1, RULE_2, STANDARDISED_LIFT, LIFT, CONFIDENCE, INTEREST)                                        |\n",
      "+------------------------------------------------------------------------------------------------------------------+\n",
      "|{1551000119108} -> {1501000119109}: 1.0000000000000002, 98.89602733874415, 0.25929090132422045, 0.2566690477644603|\n",
      "|{44054006} -> {422034002}: 1.0000000000000002, 14.973973559620212, 0.26461076759889274, 0.24693938821884232       |\n",
      "|{44054006} -> {1551000119108}: 1.0000000000000002, 14.973973559620212, 0.1514112746746695, 0.14129964504798342    |\n",
      "|{72892002} -> {398254007}: 1.0000000000000002, 5.635999805248552, 0.11178246263206583, 0.09194880995380139        |\n",
      "|{443165006} -> {64859006}: 1.0, 20.9323158713224, 1.0, 0.9522269773613528                                         |\n",
      "|{64859006} -> {443165006}: 1.0, 20.9323158713224, 0.3122547512703206, 0.2973373979688584                          |\n",
      "|{1501000119109} -> {1551000119108}: 1.0, 98.89602733874413, 1.0, 0.9898883703733139                               |\n",
      "|{44054006} -> {431855005}: 1.0, 14.97397355962021, 0.4180917393216568, 0.3901705106873876                         |\n",
      "|{431855005} -> {44054006}: 1.0, 14.97397355962021, 1.0, 0.9332174592122517                                        |\n",
      "|{74400008} -> {47693006}: 1.0, 21.463259970704392, 0.2985741568242078, 0.2846632151857178                         |\n",
      "|{47693006} -> {74400008}: 1.0, 21.463259970704392, 1.0, 0.9534087551767569                                        |\n",
      "|{90781000119102} -> {431856006}: 1.0, 238.1357745319893, 0.9697593087842008, 0.9656870130080198                   |\n",
      "|{431856006} -> {90781000119102}: 1.0, 238.1357745319893, 1.0, 0.9958007149410234                                  |\n",
      "|{198992004} -> {72892002}: 1.0, 5.635999805248551, 1.0, 0.8225691918816702                                        |\n",
      "|{72892002} -> {198992004}: 1.0, 5.635999805248551, 0.11070646087930279, 0.09106372406156783                       |\n",
      "|{72892002} -> {35999006}: 1.0, 5.635999805248551, 0.0870198159598812, 0.07157981969181115                         |\n",
      "|{35999006} -> {72892002}: 1.0, 5.635999805248551, 1.0, 0.8225691918816702                                         |\n",
      "|{1551000119108} -> {302870006}: 1.0, 15.232892936098537, 1.0, 0.9343525879033637                                  |\n",
      "|{254637007} -> {162573006}: 1.0, 77.084504228541, 1.0, 0.9870272240833879                                         |\n",
      "|{162573006} -> {254637007}: 1.0, 77.084504228541, 0.8491043484051408, 0.83808910796346                            |\n",
      "+------------------------------------------------------------------------------------------------------------------+\n",
      "only showing top 20 rows\n",
      "\n"
     ]
    },
    {
     "name": "stderr",
     "output_type": "stream",
     "text": [
      "                                                                                \r"
     ]
    }
   ],
   "source": [
    "# TODO: map code to description\n",
    "\n",
    "rules_k2_metrics \\\n",
    "    .select(format_rule('RULE_1', 'RULE_2', 'STANDARDISED_LIFT', 'LIFT', 'CONFIDENCE', 'INTEREST')) \\\n",
    "    .show(truncate=False)"
   ]
  },
  {
   "cell_type": "markdown",
   "metadata": {},
   "source": [
    "Example output\n",
    "\n",
    "```\n",
    "...\n",
    "{Diabetes, Neoplasm} -> {Colon polyp}: 0.2000, ...\n",
    "...\n",
    "```"
   ]
  }
 ],
 "metadata": {
  "kernelspec": {
   "display_name": "Python 3",
   "language": "python",
   "name": "python3"
  },
  "language_info": {
   "codemirror_mode": {
    "name": "ipython",
    "version": 3
   },
   "file_extension": ".py",
   "mimetype": "text/x-python",
   "name": "python",
   "nbconvert_exporter": "python",
   "pygments_lexer": "ipython3",
   "version": "3.8.10"
  },
  "orig_nbformat": 4,
  "vscode": {
   "interpreter": {
    "hash": "31f2aee4e71d21fbe5cf8b01ff0e069b9275f58929596ceb00d14d90e3e16cd6"
   }
  }
 },
 "nbformat": 4,
 "nbformat_minor": 2
}
