{
 "cells": [
  {
   "cell_type": "markdown",
   "metadata": {},
   "source": [
    "# Exercise 2"
   ]
  },
  {
   "cell_type": "markdown",
   "metadata": {},
   "source": [
    "## Imports"
   ]
  },
  {
   "cell_type": "code",
   "execution_count": 28,
   "metadata": {},
   "outputs": [],
   "source": [
    "import os.path\n",
    "import random\n",
    "import pyspark.sql.functions as F\n",
    "from pyspark.sql import SparkSession, Row\n",
    "from pyspark.sql.types import StringType, ArrayType, IntegerType, StructType, StructField\n",
    "from itertools import combinations, chain\n",
    "from functools import partial\n",
    "from typing import Iterable, Any, List, Callable"
   ]
  },
  {
   "cell_type": "markdown",
   "metadata": {},
   "source": [
    "## Parameters"
   ]
  },
  {
   "attachments": {},
   "cell_type": "markdown",
   "metadata": {},
   "source": [
    "The values for parameters $b$ and $r$ chosen, according to the requirements, were:\n",
    "- $b = 13$\n",
    "- $r = 11$\n",
    "\n",
    "The values were hand-picked by visually analyzing the plot for the probability of two documents sharing a bucket depending on their similarity, as $b$ and $r$ changed."
   ]
  },
  {
   "cell_type": "code",
   "execution_count": 2,
   "metadata": {},
   "outputs": [
    {
     "data": {
      "image/png": "[encoded data removed]",
      "text/plain": [
       "<Figure size 432x288 with 1 Axes>"
      ]
     },
     "metadata": {
      "needs_background": "light"
     },
     "output_type": "display_data"
    }
   ],
   "source": [
    "N = 100\n",
    "\n",
    "r = 11\n",
    "b = 13\n",
    "\n",
    "point_below = (0.85, 0.9)\n",
    "point_above = (0.6, 0.05)\n",
    "\n",
    "prob = lambda s, r, b: 1 - (1 - s**r)**b\n",
    "\n",
    "try:\n",
    "    import matplotlib.pyplot as plt\n",
    "\n",
    "    ss = [i/N for i in range(N)]\n",
    "\n",
    "    plt.plot(*point_below, color='g', marker='o')\n",
    "    plt.plot(*point_above, color='r', marker='o')\n",
    "    plt.plot(ss, [prob(s, r, b) for s in ss])\n",
    "\n",
    "    plt.title(f'Probability of two documents sharing a bucket w.r.t. their similarity $s$\\n($r={r}$, $b={b}$)')\n",
    "    plt.legend(['at least', 'less than', 'probability'])\n",
    "    plt.xlabel('$s$')\n",
    "    plt.ylabel('probability')\n",
    "\n",
    "    plt.show()\n",
    "\n",
    "except ImportError:\n",
    "    print('Could not plot, since the \\'matplotlib\\' module is not present.')\n",
    "\n",
    "assert prob(point_below[0], r, b) >= point_below[1], 'Pairs with a similarity of 85%% should have at least 90%% probability of sharing a bucket!'\n",
    "assert prob(point_above[0], r, b) <  point_above[1], 'Pairs with a similarity of 60%% should have less than 5%% probability of sharing a bucket!'"
   ]
  },
  {
   "cell_type": "code",
   "execution_count": 6,
   "metadata": {},
   "outputs": [],
   "source": [
    "# Shingle size\n",
    "k = 9\n",
    "\n",
    "# Number of bands\n",
    "b = 13\n",
    "\n",
    "# Number of rows per band\n",
    "r = 11\n",
    "\n",
    "# Min-hash: number of hash functions\n",
    "num_functions = b*r\n",
    "\n",
    "# Seed for the random number generator\n",
    "seed = 123\n",
    "\n",
    "# Similarity threshold\n",
    "similarity_threshold = 0.85\n",
    "\n",
    "# Sample of the dataset to use\n",
    "sample_fraction = 0.01"
   ]
  },
  {
   "cell_type": "code",
   "execution_count": 4,
   "metadata": {},
   "outputs": [],
   "source": [
    "random.seed(seed)"
   ]
  },
  {
   "attachments": {},
   "cell_type": "markdown",
   "metadata": {},
   "source": [
    "## Spark Initialization"
   ]
  },
  {
   "cell_type": "code",
   "execution_count": 5,
   "metadata": {},
   "outputs": [
    {
     "name": "stderr",
     "output_type": "stream",
     "text": [
      "23/03/19 15:55:01 WARN Utils: Your hostname, martinho-SATELLITE-L50-B resolves to a loopback address: 127.0.1.1; using 192.168.1.66 instead (on interface enp8s0)\n",
      "23/03/19 15:55:01 WARN Utils: Set SPARK_LOCAL_IP if you need to bind to another address\n",
      "WARNING: An illegal reflective access operation has occurred\n",
      "WARNING: Illegal reflective access by org.apache.spark.unsafe.Platform (file:/home/martinho/.local/lib/python3.8/site-packages/pyspark/jars/spark-unsafe_2.12-3.1.2.jar) to constructor java.nio.DirectByteBuffer(long,int)\n",
      "WARNING: Please consider reporting this to the maintainers of org.apache.spark.unsafe.Platform\n",
      "WARNING: Use --illegal-access=warn to enable warnings of further illegal reflective access operations\n",
      "WARNING: All illegal access operations will be denied in a future release\n",
      "23/03/19 15:55:04 WARN NativeCodeLoader: Unable to load native-hadoop library for your platform... using builtin-java classes where applicable\n",
      "Using Spark's default log4j profile: org/apache/spark/log4j-defaults.properties\n",
      "Setting default log level to \"WARN\".\n",
      "To adjust logging level use sc.setLogLevel(newLevel). For SparkR, use setLogLevel(newLevel).\n"
     ]
    }
   ],
   "source": [
    "spark = SparkSession.builder \\\n",
    "    .appName('LSH') \\\n",
    "    .config('spark.master', 'local[*]') \\\n",
    "    .getOrCreate()"
   ]
  },
  {
   "attachments": {},
   "cell_type": "markdown",
   "metadata": {},
   "source": [
    "## Prepare the Data"
   ]
  },
  {
   "cell_type": "code",
   "execution_count": 9,
   "metadata": {},
   "outputs": [
    {
     "name": "stderr",
     "output_type": "stream",
     "text": [
      "                                                                                \r"
     ]
    }
   ],
   "source": [
    "# TODO: Configure partitions for speedup?\n",
    "df = spark.read \\\n",
    "    .json('./data/covid_news_small.json.bz2') \\\n",
    "    .sample(withReplacement=False, fraction=sample_fraction, seed=seed) \\\n",
    "    .repartition(8)"
   ]
  },
  {
   "attachments": {},
   "cell_type": "markdown",
   "metadata": {},
   "source": [
    "## Pipeline"
   ]
  },
  {
   "cell_type": "markdown",
   "metadata": {},
   "source": [
    "### Generate shingles"
   ]
  },
  {
   "cell_type": "code",
   "execution_count": 10,
   "metadata": {},
   "outputs": [],
   "source": [
    "# TODO: ignore punctuation? use different shingling strategy? (see 'Further fun' slide, which is the last, of 3b)\n",
    "@F.udf(returnType=ArrayType(IntegerType(), False))\n",
    "def generate_shingles(text: str):\n",
    "    shingles = (text[idx:idx+k] for idx in range(len(text) - k + 1))\n",
    "    # Get last 32 bits in order to have 4-byte integers (Python allows arbitrarily large integers)\n",
    "    to_integer = lambda s: hash(s) & ((1 << 32) - 1)\n",
    "    return sorted(set(to_integer(shingle_str) for shingle_str in shingles))"
   ]
  },
  {
   "cell_type": "code",
   "execution_count": 11,
   "metadata": {},
   "outputs": [],
   "source": [
    "df_shingles = df \\\n",
    "    .drop('url') \\\n",
    "    .filter(F.length('text') >= k) \\\n",
    "    .repartition(8) \\\n",
    "    .withColumn('shingles', generate_shingles('text')) \\\n",
    "    .drop('text')"
   ]
  },
  {
   "cell_type": "markdown",
   "metadata": {},
   "source": [
    "### Min-hash"
   ]
  },
  {
   "cell_type": "code",
   "execution_count": 14,
   "metadata": {},
   "outputs": [],
   "source": [
    "# Assumes the values to hash are 4-byte integers\n",
    "def generate_universal_hash_family(K: int) -> List[Callable[[int], int]]:\n",
    "    N = 1 << 32\n",
    "    p = 2305843009213693951\n",
    "\n",
    "    parameters = set()\n",
    "    while (len(parameters) < K):\n",
    "        parameters |= {(random.randint(1, N), random.randint(0, N)) for _ in range(K - len(parameters))}\n",
    "    \n",
    "    return [partial(lambda x, a, b, p, N: ((a * x + b) % p) % N, a=a, b=b, p=p, N=N) for a, b in parameters]"
   ]
  },
  {
   "cell_type": "code",
   "execution_count": 15,
   "metadata": {},
   "outputs": [],
   "source": [
    "hash_family = generate_universal_hash_family(num_functions)"
   ]
  },
  {
   "cell_type": "code",
   "execution_count": 16,
   "metadata": {},
   "outputs": [],
   "source": [
    "@F.udf(returnType=ArrayType(IntegerType(), False))\n",
    "def calculate_min_hash(shingles: List[int]):\n",
    "    return [min(h(shingle) for shingle in shingles) for h in hash_family]"
   ]
  },
  {
   "cell_type": "code",
   "execution_count": 17,
   "metadata": {},
   "outputs": [],
   "source": [
    "df_minhash = df_shingles.withColumn('min_hash', calculate_min_hash('shingles')).drop('shingles')"
   ]
  },
  {
   "cell_type": "code",
   "execution_count": 19,
   "metadata": {},
   "outputs": [
    {
     "name": "stderr",
     "output_type": "stream",
     "text": [
      "                                                                                \r"
     ]
    }
   ],
   "source": [
    "fname_minhash = f'minhash_{r}_{b}'\n",
    "if not os.path.exists(fname_minhash):\n",
    "    df_minhash.write.mode('overwrite').parquet(path=fname_minhash, compression='gzip')\n",
    "\n",
    "df_minhash = spark.read.parquet(fname_minhash)"
   ]
  },
  {
   "attachments": {},
   "cell_type": "markdown",
   "metadata": {},
   "source": [
    "### LSH"
   ]
  },
  {
   "cell_type": "code",
   "execution_count": 21,
   "metadata": {},
   "outputs": [],
   "source": [
    "@F.udf(returnType=ArrayType(ArrayType(IntegerType(), False), False))\n",
    "def generate_even_slices(minhashes: List[int]):\n",
    "    return [minhashes[i:i+b] for i in range(0, num_functions, b)]"
   ]
  },
  {
   "cell_type": "code",
   "execution_count": 22,
   "metadata": {},
   "outputs": [],
   "source": [
    "df_bands = df_minhash \\\n",
    "    .withColumn('min_hash_slices', generate_even_slices('min_hash')) \\\n",
    "    .select('tweet_id', *(F.hash(F.col('min_hash_slices')[band]).alias(f'band_{band}') for band in range(b))) "
   ]
  },
  {
   "cell_type": "code",
   "execution_count": 23,
   "metadata": {},
   "outputs": [],
   "source": [
    "df_bands_lst = [\n",
    "    df_bands\n",
    "        .select('tweet_id', f'band_{band}')\n",
    "        .groupby(f'band_{band}')\n",
    "        .agg(F.collect_list('tweet_id'))\n",
    "        .withColumnRenamed('collect_list(tweet_id)', 'candidates')\n",
    "        .withColumn('candidates', F.array_sort('candidates'))\n",
    "    for band in range(b)\n",
    "]"
   ]
  },
  {
   "cell_type": "code",
   "execution_count": 24,
   "metadata": {},
   "outputs": [
    {
     "name": "stderr",
     "output_type": "stream",
     "text": [
      "[Stage 17:============================================>           (16 + 4) / 20]\r"
     ]
    },
    {
     "name": "stdout",
     "output_type": "stream",
     "text": [
      "+-----------+--------------------+\n",
      "|     band_0|          candidates|\n",
      "+-----------+--------------------+\n",
      "|-2101984913|[1397468012056391...|\n",
      "| 1866993554|[1466466327976198...|\n",
      "| 1334410624|[1394573138407665...|\n",
      "| 1945256608|[1465327843068555...|\n",
      "| -400616415|[1366328549880311...|\n",
      "| -724829135|[1354457247468949...|\n",
      "|  602823508|[1354448985591861...|\n",
      "|-1935695055|[1373245608585232...|\n",
      "|  764432283|[1468290082780102...|\n",
      "|  135502966|[1387423064066084...|\n",
      "|  474238425|[1346857904180244...|\n",
      "| -567503795|[1388664205184839...|\n",
      "|  296492218|[1396828528176504...|\n",
      "| 1667432190|[1358872331817340...|\n",
      "|-1678580779|[1419721355835187...|\n",
      "| 1011269807|[1362009185836220...|\n",
      "| -677090112|[1372995741539516...|\n",
      "|-1788201431|[1430061286705049...|\n",
      "| 1888613091|[1364618762914324...|\n",
      "| -715886172|[1400469689961267...|\n",
      "+-----------+--------------------+\n",
      "only showing top 20 rows\n",
      "\n"
     ]
    },
    {
     "name": "stderr",
     "output_type": "stream",
     "text": [
      "                                                                                \r"
     ]
    }
   ],
   "source": [
    "df_bands_lst[0].show()"
   ]
  },
  {
   "cell_type": "code",
   "execution_count": 25,
   "metadata": {},
   "outputs": [],
   "source": [
    "@F.udf(returnType=ArrayType(ArrayType(StringType(), False), False))\n",
    "def combine_pairs(elems: Iterable[Any]):\n",
    "    return list(combinations(elems, 2))"
   ]
  },
  {
   "cell_type": "code",
   "execution_count": 26,
   "metadata": {},
   "outputs": [],
   "source": [
    "df_bands_lst = [\n",
    "    d.select(F.explode(combine_pairs('candidates')).alias('candidate_pair'))\n",
    "    for d in df_bands_lst\n",
    "]"
   ]
  },
  {
   "cell_type": "code",
   "execution_count": 29,
   "metadata": {},
   "outputs": [],
   "source": [
    "df_candidate_pairs = spark.createDataFrame([], schema=StructType([StructField(name='candidate_pair', dataType=ArrayType(StringType(), False), nullable=False)]))\n",
    "\n",
    "for d in df_bands_lst:\n",
    "    df_candidate_pairs = df_candidate_pairs.union(d)\n",
    "\n",
    "df_candidate_pairs = df_candidate_pairs.distinct()"
   ]
  },
  {
   "cell_type": "code",
   "execution_count": 30,
   "metadata": {},
   "outputs": [
    {
     "name": "stderr",
     "output_type": "stream",
     "text": [
      "[Stage 31:===================================================>(2600 + 4) / 2604]\r"
     ]
    },
    {
     "name": "stdout",
     "output_type": "stream",
     "text": [
      "+--------------------+\n",
      "|      candidate_pair|\n",
      "+--------------------+\n",
      "|[1347464482612793...|\n",
      "|[1364920759102111...|\n",
      "|[1345475646278037...|\n",
      "|[1346760988108926...|\n",
      "|[1346857904180244...|\n",
      "|[1347464482612793...|\n",
      "|[1349866656319889...|\n",
      "|[1349866656319889...|\n",
      "|[1350853377572413...|\n",
      "|[1351218089111793...|\n",
      "|[1354367527816724...|\n",
      "|[1354367527816724...|\n",
      "|[1354441116972687...|\n",
      "|[1354448985591861...|\n",
      "|[1354448985591861...|\n",
      "|[1354832816924749...|\n",
      "|[1354832816924749...|\n",
      "|[1354832816924749...|\n",
      "|[1355167737241329...|\n",
      "|[1355167737241329...|\n",
      "+--------------------+\n",
      "only showing top 20 rows\n",
      "\n"
     ]
    },
    {
     "name": "stderr",
     "output_type": "stream",
     "text": [
      "                                                                                \r"
     ]
    }
   ],
   "source": [
    "df_candidate_pairs.show()"
   ]
  },
  {
   "cell_type": "markdown",
   "metadata": {},
   "source": [
    "Remove false positives."
   ]
  },
  {
   "cell_type": "code",
   "execution_count": 31,
   "metadata": {},
   "outputs": [],
   "source": [
    "df_candidate_pairs = df_candidate_pairs \\\n",
    "    .join(df_minhash, df_minhash['tweet_id'] == F.col('candidate_pair')[0]) \\\n",
    "    .withColumnRenamed('min_hash', 'min_hash_0') \\\n",
    "    .drop('tweet_id') \\\n",
    "    .join(df_minhash, df_minhash['tweet_id'] == F.col('candidate_pair')[1]) \\\n",
    "    .withColumnRenamed('min_hash', 'min_hash_1') \\\n",
    "    .drop('tweet_id') \\\n",
    "    .withColumn('similarity', F.size(F.array_intersect('min_hash_0', 'min_hash_1')) / F.size(F.array_union('min_hash_0', 'min_hash_1'))) \\\n",
    "    .filter(F.col('similarity') >= similarity_threshold)"
   ]
  },
  {
   "cell_type": "markdown",
   "metadata": {},
   "source": [
    "Save results."
   ]
  },
  {
   "cell_type": "code",
   "execution_count": 32,
   "metadata": {},
   "outputs": [
    {
     "name": "stderr",
     "output_type": "stream",
     "text": [
      "                                                                                \r"
     ]
    }
   ],
   "source": [
    "fname_candidate_pairs = f'candidate_pairs_{r}_{b}'\n",
    "if not os.path.exists(fname_candidate_pairs):\n",
    "    df_candidate_pairs.write.mode('overwrite').parquet(path=fname_candidate_pairs, compression='gzip')\n",
    "\n",
    "df_candidate_pairs = spark.read.parquet(fname_candidate_pairs)"
   ]
  },
  {
   "attachments": {},
   "cell_type": "markdown",
   "metadata": {},
   "source": [
    "Get similar articles."
   ]
  },
  {
   "cell_type": "code",
   "execution_count": 39,
   "metadata": {},
   "outputs": [],
   "source": [
    "def get_similar_articles(tweet_id: str) -> List[str]:\n",
    "    rows = df_candidate_pairs \\\n",
    "        .filter(F.array_contains('candidate_pair', tweet_id)) \\\n",
    "        .select(F.array_remove('candidate_pair', tweet_id).alias('sole_candidate')) \\\n",
    "        .select(F.col('sole_candidate')[0].alias('similar_article')) \\\n",
    "        .collect()\n",
    "\n",
    "    return [row.similar_article for row in rows]"
   ]
  },
  {
   "cell_type": "markdown",
   "metadata": {},
   "source": [
    "## Analysis of false positives/negatives"
   ]
  }
 ],
 "metadata": {
  "kernelspec": {
   "display_name": "Python 3",
   "language": "python",
   "name": "python3"
  },
  "language_info": {
   "codemirror_mode": {
    "name": "ipython",
    "version": 3
   },
   "file_extension": ".py",
   "mimetype": "text/x-python",
   "name": "python",
   "nbconvert_exporter": "python",
   "pygments_lexer": "ipython3",
   "version": "3.8.10"
  },
  "orig_nbformat": 4
 },
 "nbformat": 4,
 "nbformat_minor": 2
}
