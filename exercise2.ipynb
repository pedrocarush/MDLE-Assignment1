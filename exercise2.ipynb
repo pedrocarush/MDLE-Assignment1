{
 "cells": [
  {
   "cell_type": "markdown",
   "metadata": {},
   "source": [
    "# Exercise 2"
   ]
  },
  {
   "cell_type": "markdown",
   "metadata": {},
   "source": [
    "## Imports"
   ]
  },
  {
   "cell_type": "code",
   "execution_count": 37,
   "metadata": {},
   "outputs": [],
   "source": [
    "import os.path\n",
    "import random\n",
    "import pyspark.sql.functions as F\n",
    "from pyspark.sql import SparkSession\n",
    "from pyspark.sql.types import StringType, ArrayType, IntegerType\n",
    "from itertools import combinations, chain\n",
    "from functools import partial\n",
    "from typing import Iterable, Any, List, Callable"
   ]
  },
  {
   "cell_type": "code",
   "execution_count": 38,
   "metadata": {},
   "outputs": [],
   "source": [
    "# Shingle size\n",
    "k = 9\n",
    "\n",
    "# Min-hash: number of hash functions\n",
    "num_functions = 100\n",
    "\n",
    "# Seed for the random number generator\n",
    "seed = 123"
   ]
  },
  {
   "cell_type": "code",
   "execution_count": 39,
   "metadata": {},
   "outputs": [],
   "source": [
    "random.seed(seed)"
   ]
  },
  {
   "attachments": {},
   "cell_type": "markdown",
   "metadata": {},
   "source": [
    "## Spark Initialization"
   ]
  },
  {
   "cell_type": "code",
   "execution_count": 40,
   "metadata": {},
   "outputs": [],
   "source": [
    "spark = SparkSession.builder \\\n",
    "    .appName('SandboxAssign2') \\\n",
    "    .config('spark.master', 'local[*]') \\\n",
    "    .getOrCreate()"
   ]
  },
  {
   "attachments": {},
   "cell_type": "markdown",
   "metadata": {},
   "source": [
    "## Prepare the Data"
   ]
  },
  {
   "cell_type": "code",
   "execution_count": 41,
   "metadata": {},
   "outputs": [
    {
     "name": "stderr",
     "output_type": "stream",
     "text": [
      "                                                                                \r"
     ]
    }
   ],
   "source": [
    "df = spark.read \\\n",
    "    .option('header', True) \\\n",
    "    .json('./data/covid_news_small.json.bz2')"
   ]
  },
  {
   "attachments": {},
   "cell_type": "markdown",
   "metadata": {},
   "source": [
    "## Pipeline"
   ]
  },
  {
   "cell_type": "markdown",
   "metadata": {},
   "source": [
    "### Generate shingles"
   ]
  },
  {
   "cell_type": "code",
   "execution_count": 42,
   "metadata": {},
   "outputs": [],
   "source": [
    "@F.udf(returnType=ArrayType(IntegerType(), False))\n",
    "def generate_shingles(text: str):\n",
    "    shingles = (text[idx:idx+k] for idx in range(len(text) - k + 1))\n",
    "    # Get last 32 bits in order to have 4-byte integers (Python allows arbitrarily large integers)\n",
    "    to_integer = lambda s: hash(s) & ((1 << 32) - 1)\n",
    "    return sorted(set(to_integer(shingle_str) for shingle_str in shingles))"
   ]
  },
  {
   "cell_type": "code",
   "execution_count": 43,
   "metadata": {},
   "outputs": [],
   "source": [
    "df_shingles = df \\\n",
    "    .drop('url') \\\n",
    "    .withColumn('text', generate_shingles('text'))"
   ]
  },
  {
   "cell_type": "markdown",
   "metadata": {},
   "source": [
    "### Min-hash"
   ]
  },
  {
   "cell_type": "code",
   "execution_count": 44,
   "metadata": {},
   "outputs": [],
   "source": [
    "def generate_universal_hash_family(K: int) -> List[Callable[[int], int]]:\n",
    "    \n",
    "    # TODO: mod N (what is N? the number of possible shingles or the number of effective shingles present in the data?)\n",
    "    N = 1 << 32\n",
    "\n",
    "    p = 2305843009213693951\n",
    "\n",
    "    parameters = set()\n",
    "    while (len(parameters) < K):\n",
    "        parameters |= {(random.randint(1, N), random.randint(0, N)) for _ in range(K - len(parameters))}\n",
    "    \n",
    "    return [partial(lambda x, a, b, p, N: ((a * x + b) % p) % N, a=a, b=b, p=p, N=N) for a, b in parameters]"
   ]
  },
  {
   "cell_type": "code",
   "execution_count": 45,
   "metadata": {},
   "outputs": [],
   "source": [
    "@F.udf(returnType=ArrayType(IntegerType(), False))\n",
    "def min_hash(shingles: List[int]):\n",
    "    return [min(h(shingle) for shingle in shingles) for h in generate_universal_hash_family(num_functions)]\n"
   ]
  },
  {
   "cell_type": "code",
   "execution_count": 46,
   "metadata": {},
   "outputs": [
    {
     "name": "stderr",
     "output_type": "stream",
     "text": [
      "[Stage 2:>                                                          (0 + 1) / 1]\r"
     ]
    },
    {
     "name": "stdout",
     "output_type": "stream",
     "text": [
      "+--------------------+-------------------+--------------------+\n",
      "|                text|           tweet_id|            min_hash|\n",
      "+--------------------+-------------------+--------------------+\n",
      "|[274676170, 98138...|1349048668570189824|[836953030, 21302...|\n",
      "|[179130, 9300061,...|1349046528405606404|[3527590, 1253384...|\n",
      "|[4082978, 7968454...|1349045380101648384|[8485900, 994263,...|\n",
      "|[363914, 2392224,...|1349683509351370752|[1315065, 1046285...|\n",
      "|[2385118, 7039982...|1349678975753342984|[1880380, 5745177...|\n",
      "|[919142, 3143704,...|1349675124472115201|[1406691, 1113491...|\n",
      "|[363914, 2392224,...|1349669108229533696|[3318244, 1275084...|\n",
      "|[410480, 1547329,...|1349664821717983232|[38089, 2758718, ...|\n",
      "|[3239677, 1329399...|1349656187357323265|[3091937, 1148837...|\n",
      "|[363914, 2392224,...|1349654208337862656|[734012, 325553, ...|\n",
      "|[2385118, 2593209...|1349654072882814977|[282442, 935, 142...|\n",
      "|[648273, 668292, ...|1349652813731737603|[400199, 1338472,...|\n",
      "|[6020, 179130, 51...|1349652141732978688|[430700, 185596, ...|\n",
      "|[1656783, 1867195...|1349553620317052934|[1291481, 1013863...|\n",
      "|[7807157, 8452494...|1349042062193274880|[17397515, 279154...|\n",
      "|[274676170, 98138...|1349684109275258883|[52716143, 991691...|\n",
      "|[2385118, 7039982...|1349679197350932481|[28158, 87582, 30...|\n",
      "|[3025333, 7970594...|1349677789025333250|[2916728, 164961,...|\n",
      "|[3025333, 7970594...|1349675206672064514|[2737763, 176530,...|\n",
      "|[908485, 5869435,...|1349667514884759557|[10529968, 862069...|\n",
      "+--------------------+-------------------+--------------------+\n",
      "only showing top 20 rows\n",
      "\n"
     ]
    },
    {
     "name": "stderr",
     "output_type": "stream",
     "text": [
      "                                                                                \r"
     ]
    }
   ],
   "source": [
    "df_shingles.withColumn('min_hash', min_hash('text')).show()"
   ]
  },
  {
   "attachments": {},
   "cell_type": "markdown",
   "metadata": {},
   "source": [
    "### LSH"
   ]
  }
 ],
 "metadata": {
  "kernelspec": {
   "display_name": "Python 3",
   "language": "python",
   "name": "python3"
  },
  "language_info": {
   "codemirror_mode": {
    "name": "ipython",
    "version": 3
   },
   "file_extension": ".py",
   "mimetype": "text/x-python",
   "name": "python",
   "nbconvert_exporter": "python",
   "pygments_lexer": "ipython3",
   "version": "3.8.10"
  },
  "orig_nbformat": 4
 },
 "nbformat": 4,
 "nbformat_minor": 2
}
